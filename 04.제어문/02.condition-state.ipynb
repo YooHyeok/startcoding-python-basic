{
 "cells": [
  {
   "cell_type": "code",
   "execution_count": null,
   "id": "039c7d51",
   "metadata": {},
   "outputs": [],
   "source": [
    "\"\"\" \n",
    "[조건문 if]\n",
    " \"\"\"\n",
    "origin_pass = \"1234\"\n",
    "input_pass = input()\n",
    "if origin_pass == input_pass:\n",
    "  print(\"로그인 성공\")"
   ]
  },
  {
   "cell_type": "code",
   "execution_count": 4,
   "id": "aafe89d4",
   "metadata": {},
   "outputs": [
    {
     "name": "stdout",
     "output_type": "stream",
     "text": [
      "로그인 실패\n"
     ]
    }
   ],
   "source": [
    "\"\"\" \n",
    "[조건문 else]\n",
    " \"\"\"\n",
    "origin_pass = \"1234\"\n",
    "input_pass = input()\n",
    "if origin_pass == input_pass:\n",
    "  print(\"로그인 성공\")\n",
    "else:\n",
    "  print(\"로그인 실패\")"
   ]
  },
  {
   "cell_type": "code",
   "execution_count": null,
   "id": "5b9838d9",
   "metadata": {},
   "outputs": [
    {
     "name": "stdout",
     "output_type": "stream",
     "text": [
      "비밀번호를 입력하세요.\n"
     ]
    }
   ],
   "source": [
    "\"\"\" \n",
    "[조건문 elif]\n",
    " \"\"\"\n",
    "origin_pass = \"1234\"\n",
    "input_pass = input()\n",
    "if origin_pass == input_pass:\n",
    "  print(\"로그인 성공\")\n",
    "elif origin_pass != input_pass:\n",
    "  print(\"비밀번호를 입력하세요.\")\n",
    "else:\n",
    "  print(\"로그인 실패\")"
   ]
  },
  {
   "cell_type": "code",
   "execution_count": null,
   "id": "8a40715b",
   "metadata": {},
   "outputs": [],
   "source": []
  }
 ],
 "metadata": {
  "kernelspec": {
   "display_name": "Python 3",
   "language": "python",
   "name": "python3"
  },
  "language_info": {
   "codemirror_mode": {
    "name": "ipython",
    "version": 3
   },
   "file_extension": ".py",
   "mimetype": "text/x-python",
   "name": "python",
   "nbconvert_exporter": "python",
   "pygments_lexer": "ipython3",
   "version": "3.13.7"
  }
 },
 "nbformat": 4,
 "nbformat_minor": 5
}
