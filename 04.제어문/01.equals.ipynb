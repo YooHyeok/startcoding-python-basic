{
 "cells": [
  {
   "cell_type": "code",
   "execution_count": null,
   "id": "1ee8c645",
   "metadata": {},
   "outputs": [
    {
     "name": "stdout",
     "output_type": "stream",
     "text": [
      "True\n",
      "True\n",
      "False\n",
      "False\n"
     ]
    }
   ],
   "source": [
    "\"\"\" \n",
    "[비교연산 - 정수]\n",
    " \"\"\"\n",
    "x = 10\n",
    "y = 20\n",
    "print(x < y)\n",
    "print(x <= y)\n",
    "print(x > y)\n",
    "print(x >= y)"
   ]
  },
  {
   "cell_type": "code",
   "execution_count": null,
   "id": "948dab51",
   "metadata": {},
   "outputs": [
    {
     "name": "stdout",
     "output_type": "stream",
     "text": [
      "False\n",
      "True\n"
     ]
    }
   ],
   "source": [
    "\"\"\" \n",
    "[비교연산 - 문자열]\n",
    " \"\"\"\n",
    "str1 = \"유투브 쇼츠보기\"\n",
    "str2 = \"스타트코딩 유투브보기\"\n",
    "print(str1 == str2)\n",
    "print(str1 != str2)"
   ]
  }
 ],
 "metadata": {
  "kernelspec": {
   "display_name": "Python 3",
   "language": "python",
   "name": "python3"
  },
  "language_info": {
   "codemirror_mode": {
    "name": "ipython",
    "version": 3
   },
   "file_extension": ".py",
   "mimetype": "text/x-python",
   "name": "python",
   "nbconvert_exporter": "python",
   "pygments_lexer": "ipython3",
   "version": "3.13.7"
  }
 },
 "nbformat": 4,
 "nbformat_minor": 5
}
