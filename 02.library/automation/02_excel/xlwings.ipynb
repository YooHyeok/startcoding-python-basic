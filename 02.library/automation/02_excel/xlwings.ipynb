{
 "cells": [
  {
   "cell_type": "code",
   "execution_count": 1,
   "id": "86909373",
   "metadata": {},
   "outputs": [
    {
     "name": "stdout",
     "output_type": "stream",
     "text": [
      "Collecting xlwings\n",
      "  Using cached xlwings-0.33.16-cp313-cp313-win_amd64.whl.metadata (6.4 kB)\n",
      "Requirement already satisfied: pywin32>=224 in c:\\python313\\lib\\site-packages (from xlwings) (311)\n",
      "Using cached xlwings-0.33.16-cp313-cp313-win_amd64.whl (1.6 MB)\n",
      "Installing collected packages: xlwings\n",
      "Successfully installed xlwings-0.33.16\n",
      "Note: you may need to restart the kernel to use updated packages.\n"
     ]
    }
   ],
   "source": [
    "pip install xlwings"
   ]
  },
  {
   "cell_type": "code",
   "execution_count": null,
   "id": "1704e467",
   "metadata": {},
   "outputs": [],
   "source": [
    "import xlwings as xw\n",
    "\n",
    "# 액셀 파일 생성 및 오픈\n",
    "wb = xw.Book()"
   ]
  },
  {
   "cell_type": "code",
   "execution_count": 14,
   "id": "0f70805c",
   "metadata": {},
   "outputs": [],
   "source": [
    "# 시트 선택\n",
    "ws = wb.sheets['Sheet1']"
   ]
  },
  {
   "cell_type": "code",
   "execution_count": null,
   "id": "3f7b0e64",
   "metadata": {},
   "outputs": [],
   "source": [
    "# 시트 제어 - 셀 삽입\n",
    "ws.range('A1').value = '피카츄' # A1 셀에 피카츄 삽입"
   ]
  },
  {
   "cell_type": "code",
   "execution_count": null,
   "id": "317844b9",
   "metadata": {},
   "outputs": [],
   "source": [
    "# 시트 제어 - 셀 복수(리스트) 삽입\n",
    "ws.range('A2').value = ['파이리', '꼬부기'] # A2 셀에 리스트 요소 삽입 - 리스트는 입력된 셀 기준 우측으로 순차적으로 요소 삽입"
   ]
  },
  {
   "cell_type": "code",
   "execution_count": 18,
   "id": "ac7f069d",
   "metadata": {},
   "outputs": [],
   "source": [
    "# 시트제어 - 셀 복사\n",
    "ws.range('A2:B2').copy()"
   ]
  },
  {
   "cell_type": "code",
   "execution_count": 19,
   "id": "e26234c7",
   "metadata": {},
   "outputs": [],
   "source": [
    "# 시트제어 - 셀 붙여넣기\n",
    "ws.range('A3').paste()"
   ]
  },
  {
   "cell_type": "code",
   "execution_count": 20,
   "id": "6219e695",
   "metadata": {},
   "outputs": [],
   "source": [
    "# 저장\n",
    "wb.save('포켓몬.xlsx')"
   ]
  },
  {
   "cell_type": "code",
   "execution_count": 21,
   "id": "61d04af7",
   "metadata": {},
   "outputs": [],
   "source": [
    "xw.apps.active.kill()"
   ]
  },
  {
   "cell_type": "code",
   "execution_count": null,
   "id": "4a7e0919",
   "metadata": {},
   "outputs": [],
   "source": [
    "\"\"\" \n",
    "이 외에도\n",
    "\n",
    "- 여러개의 액셀 파일 다루기\n",
    "- 여러개의 시트 다루기\n",
    "- 취합히기\n",
    "- 분리하기\n",
    "- 조건부 소식\n",
    "\n",
    "작업도 모두 가능하다.\n",
    "\"\"\""
   ]
  }
 ],
 "metadata": {
  "kernelspec": {
   "display_name": "Python 3",
   "language": "python",
   "name": "python3"
  },
  "language_info": {
   "codemirror_mode": {
    "name": "ipython",
    "version": 3
   },
   "file_extension": ".py",
   "mimetype": "text/x-python",
   "name": "python",
   "nbconvert_exporter": "python",
   "pygments_lexer": "ipython3",
   "version": "3.13.7"
  }
 },
 "nbformat": 4,
 "nbformat_minor": 5
}
