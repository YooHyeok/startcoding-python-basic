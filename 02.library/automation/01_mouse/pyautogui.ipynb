{
 "cells": [
  {
   "cell_type": "code",
   "execution_count": null,
   "id": "1a95a14c",
   "metadata": {},
   "outputs": [],
   "source": [
    "pip install pyautogui"
   ]
  },
  {
   "cell_type": "code",
   "execution_count": 8,
   "id": "6d34f0a8",
   "metadata": {},
   "outputs": [
    {
     "data": {
      "text/plain": [
       "Point(x=2436, y=6)"
      ]
     },
     "execution_count": 8,
     "metadata": {},
     "output_type": "execute_result"
    }
   ],
   "source": [
    "import pyautogui\n",
    "import time\n",
    "\n",
    "# 2초 후 마우스 좌표\n",
    "time.sleep(2) # 2초 후\n",
    "pyautogui.position() #  마우스의 x좌표  y좌표를 출력 : import pyautogui\n"
   ]
  },
  {
   "cell_type": "code",
   "execution_count": null,
   "id": "8743df81",
   "metadata": {},
   "outputs": [],
   "source": [
    "# moveTo(x좌표, y좌표, 이동속도): 마우스 이동 함수\n",
    "# pyautogui.moveTo(43, 1285, duration = 2) # 해당 좌표로 2초동안 마우스를 이동시킨다.\n",
    "pyautogui.moveTo(2436, 6, duration = 2) # 해당 좌표로 2초동안 마우스를 이동시킨다.\n",
    "pyautogui.click() # 해당 위치 클릭"
   ]
  },
  {
   "cell_type": "code",
   "execution_count": null,
   "id": "71101f2b",
   "metadata": {},
   "outputs": [],
   "source": [
    "\"\"\" \n",
    "이 외애도\n",
    "\n",
    "- 더블클릭\n",
    "- 우클릭\n",
    "- 스크롤\n",
    "- 드래그\n",
    "\n",
    "작업도 모두 가능하고, `키보드 타이핑` 작업도 가능해진다.\n",
    " \"\"\""
   ]
  }
 ],
 "metadata": {
  "kernelspec": {
   "display_name": "Python 3",
   "language": "python",
   "name": "python3"
  },
  "language_info": {
   "codemirror_mode": {
    "name": "ipython",
    "version": 3
   },
   "file_extension": ".py",
   "mimetype": "text/x-python",
   "name": "python",
   "nbconvert_exporter": "python",
   "pygments_lexer": "ipython3",
   "version": "3.13.7"
  }
 },
 "nbformat": 4,
 "nbformat_minor": 5
}
