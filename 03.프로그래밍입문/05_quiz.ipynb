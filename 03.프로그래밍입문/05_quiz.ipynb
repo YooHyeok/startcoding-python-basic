{
 "cells": [
  {
   "cell_type": "code",
   "execution_count": 5,
   "id": "3f22322b",
   "metadata": {},
   "outputs": [
    {
     "name": "stdout",
     "output_type": "stream",
     "text": [
      "이름 - 유미\n",
      "레벨 - 6\n",
      "체력 - 950\n",
      "대사 - 나랑 유미랑!\n",
      "이름 - 유미\n",
      "레벨 - 6\n",
      "체력 - 950\n",
      "대사 - 나랑 유미랑!\n"
     ]
    }
   ],
   "source": [
    "\"\"\" \n",
    "[실습문제 1]\n",
    "다음 챔피언의 정보를 변수에 저장하고 출력해보세요.\n",
    "이름 - 유미\n",
    "레벨 - 6\n",
    "체력 - 950\n",
    "대사 - 나랑 유미랑!\n",
    " \"\"\"\n",
    "\n",
    "champ_name = \"유미\"\n",
    "champ_level = 6\n",
    "champ_hp = 950\n",
    "champ_msg = \"나랑 유미랑!\"\n",
    "\n",
    "print(\"이름 -\", champ_name)\n",
    "print(\"레벨 -\", champ_level)\n",
    "print(\"체력 -\", champ_hp)\n",
    "print(\"대사 -\", champ_msg)\n",
    "\n",
    "# 정답\n",
    "print(\"이름 - \" + champ_name)\n",
    "print(\"레벨 - \" + str(champ_level))\n",
    "print(\"체력 - \" + str(champ_hp))\n",
    "print(\"대사 - \" + champ_msg)\n"
   ]
  },
  {
   "cell_type": "code",
   "execution_count": 7,
   "id": "683180f3",
   "metadata": {},
   "outputs": [
    {
     "name": "stdout",
     "output_type": "stream",
     "text": [
      "받아라 몬스터볼~! 파이리 넌 내꺼야!\n",
      "받아라 몬스터볼~! 파이리 넌 내꺼야!\n",
      "받아라 몬스터볼~! 파이리 넌 내꺼야!\n"
     ]
    }
   ],
   "source": [
    "\"\"\" \n",
    "[실습문제 2]\n",
    "포켓몬 이름을 사용자로부터 입력받아서 메시지를 완성해 봅시다.\n",
    "<입력>\n",
    "파이리\n",
    "<출력>\n",
    "받아라 몬스터볼~! 파이리 넌 내꺼야!\n",
    " \"\"\"\n",
    "print(\"받아라 몬스터볼~!\", input(), \"넌 내꺼야!\")\n",
    "\n",
    "# 정답\n",
    "pockemon_name = input()\n",
    "print(\"받아라 몬스터볼~!\", pockemon_name, \"넌 내꺼야!\")\n",
    "\n",
    "## f-string: 문자열과 변수를 합쳐서 새로운 문자열을 만들고 싶을 때 사용\n",
    "print(f\"받아라 몬스터볼~! {pockemon_name} 넌 내꺼야!\")\n",
    "\n"
   ]
  },
  {
   "cell_type": "code",
   "execution_count": 10,
   "id": "30482790",
   "metadata": {},
   "outputs": [
    {
     "name": "stdout",
     "output_type": "stream",
     "text": [
      "[포켓몬 정보]\n",
      "이름 : 이상해씨\n",
      "레벨 : 8\n",
      "[포켓몬 정보]\n",
      "이름 : 이상해씨\n",
      "레벨 : 8\n"
     ]
    }
   ],
   "source": [
    "\"\"\" \n",
    "[실습문제 3]\n",
    "포켓몬 이름을 사용자로부터 입력받아서 메시지를 완성해 봅시다.\n",
    "<입력>\n",
    "포켓몬 이름을 입력하세요: 이상해씨\n",
    "레벨을 입력하세요: 8\n",
    "<출력>\n",
    "[포켓몬 정보]\n",
    "이름:이상해씨\n",
    "레벨:8\n",
    " \"\"\"\n",
    "pockemon_name = input(\"포켓몬 이름을 입력하세요:\")\n",
    "pockemon_level = input(\"레벨을 입력하세요:\")\n",
    "print(\"[포켓몬 정보]\")\n",
    "print(\"이름 :\", pockemon_name)\n",
    "print(\"레벨 :\", pockemon_level)\n",
    "\n",
    "# 정답(f-string)\n",
    "print(\"[포켓몬 정보]\")\n",
    "print(f\"이름 : {pockemon_name}\")\n",
    "print(f\"레벨 : {pockemon_level}\")"
   ]
  },
  {
   "cell_type": "code",
   "execution_count": null,
   "id": "516323bd",
   "metadata": {},
   "outputs": [],
   "source": []
  }
 ],
 "metadata": {
  "kernelspec": {
   "display_name": "Python 3",
   "language": "python",
   "name": "python3"
  },
  "language_info": {
   "codemirror_mode": {
    "name": "ipython",
    "version": 3
   },
   "file_extension": ".py",
   "mimetype": "text/x-python",
   "name": "python",
   "nbconvert_exporter": "python",
   "pygments_lexer": "ipython3",
   "version": "3.13.7"
  }
 },
 "nbformat": 4,
 "nbformat_minor": 5
}
