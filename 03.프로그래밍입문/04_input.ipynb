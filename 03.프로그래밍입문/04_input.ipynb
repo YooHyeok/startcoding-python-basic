{
 "cells": [
  {
   "cell_type": "code",
   "execution_count": 2,
   "id": "fa03c70c",
   "metadata": {},
   "outputs": [
    {
     "name": "stdout",
     "output_type": "stream",
     "text": [
      "입력한 데이터 배고파\n"
     ]
    }
   ],
   "source": [
    "x = input()\n",
    "print(\"입력한 데이터\", x)"
   ]
  },
  {
   "cell_type": "code",
   "execution_count": 5,
   "id": "10daa6cf",
   "metadata": {},
   "outputs": [
    {
     "name": "stdout",
     "output_type": "stream",
     "text": [
      "제품의 가격: 3000\n"
     ]
    }
   ],
   "source": [
    "price = input(\"가격을 입력하세요\")\n",
    "print(\"제품의 가격:\", price)"
   ]
  },
  {
   "cell_type": "code",
   "execution_count": null,
   "id": "c165b2c4",
   "metadata": {},
   "outputs": [],
   "source": []
  }
 ],
 "metadata": {
  "kernelspec": {
   "display_name": "Python 3",
   "language": "python",
   "name": "python3"
  },
  "language_info": {
   "codemirror_mode": {
    "name": "ipython",
    "version": 3
   },
   "file_extension": ".py",
   "mimetype": "text/x-python",
   "name": "python",
   "nbconvert_exporter": "python",
   "pygments_lexer": "ipython3",
   "version": "3.13.7"
  }
 },
 "nbformat": 4,
 "nbformat_minor": 5
}
