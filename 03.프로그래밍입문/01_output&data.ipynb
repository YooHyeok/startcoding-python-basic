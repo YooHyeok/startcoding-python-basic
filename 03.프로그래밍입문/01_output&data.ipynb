{
 "cells": [
  {
   "cell_type": "code",
   "execution_count": 1,
   "id": "7289ad0b",
   "metadata": {},
   "outputs": [
    {
     "name": "stdout",
     "output_type": "stream",
     "text": [
      "startcoding\n"
     ]
    }
   ],
   "source": [
    "print(\"startcoding\")"
   ]
  },
  {
   "cell_type": "code",
   "execution_count": 2,
   "id": "cf7fc03c",
   "metadata": {},
   "outputs": [
    {
     "name": "stdout",
     "output_type": "stream",
     "text": [
      "startcoding\n"
     ]
    }
   ],
   "source": [
    "print('startcoding')"
   ]
  },
  {
   "cell_type": "code",
   "execution_count": null,
   "id": "19e91531",
   "metadata": {},
   "outputs": [
    {
     "ename": "_IncompleteInputError",
     "evalue": "incomplete input (2488721856.py, line 1)",
     "output_type": "error",
     "traceback": [
      "  \u001b[36mCell\u001b[39m\u001b[36m \u001b[39m\u001b[32mIn[7]\u001b[39m\u001b[32m, line 1\u001b[39m\n\u001b[31m    \u001b[39m\u001b[31mprint(\"startcoding\"\u001b[39m\n                       ^\n\u001b[31m_IncompleteInputError\u001b[39m\u001b[31m:\u001b[39m incomplete input\n"
     ]
    }
   ],
   "source": [
    "# _IncompleteInputError: incomplete input - 완성되지 않은 입력이다.\n",
    "print(\"startcoding\""
   ]
  },
  {
   "cell_type": "code",
   "execution_count": 8,
   "id": "e717d07c",
   "metadata": {},
   "outputs": [
    {
     "ename": "SyntaxError",
     "evalue": "unterminated string literal (detected at line 2) (2846753653.py, line 2)",
     "output_type": "error",
     "traceback": [
      "  \u001b[36mCell\u001b[39m\u001b[36m \u001b[39m\u001b[32mIn[8]\u001b[39m\u001b[32m, line 2\u001b[39m\n\u001b[31m    \u001b[39m\u001b[31mprint(\"startcoding')\u001b[39m\n          ^\n\u001b[31mSyntaxError\u001b[39m\u001b[31m:\u001b[39m unterminated string literal (detected at line 2)\n"
     ]
    }
   ],
   "source": [
    "# SyntaxError: unterminated string literal (detected at line 1) - 문자열이 종료되지 않았다.\n",
    "print(\"startcoding')"
   ]
  },
  {
   "cell_type": "code",
   "execution_count": null,
   "id": "b9f5211f",
   "metadata": {},
   "outputs": [
    {
     "ename": "SyntaxError",
     "evalue": "unterminated string literal (detected at line 1) (2716024082.py, line 1)",
     "output_type": "error",
     "traceback": [
      "  \u001b[36mCell\u001b[39m\u001b[36m \u001b[39m\u001b[32mIn[9]\u001b[39m\u001b[32m, line 1\u001b[39m\n\u001b[31m    \u001b[39m\u001b[31mprint('startcoding\")\u001b[39m\n          ^\n\u001b[31mSyntaxError\u001b[39m\u001b[31m:\u001b[39m unterminated string literal (detected at line 1)\n"
     ]
    }
   ],
   "source": [
    "# SyntaxError: unterminated string literal (detected at line 1) - 문자열이 종료되지 않았다.\n",
    "print('startcoding\")"
   ]
  },
  {
   "cell_type": "code",
   "execution_count": null,
   "id": "d915cf64",
   "metadata": {},
   "outputs": [
    {
     "name": "stdout",
     "output_type": "stream",
     "text": [
      "잘 잤어?\n",
      "밥먹었어?\n",
      "퇴근했어?\n"
     ]
    }
   ],
   "source": [
    "# 코드 실행 순서 - 위에서 아래로 한 줄씩\n",
    "print(\"잘 잤어?\")\n",
    "print(\"밥먹었어?\")\n",
    "print(\"퇴근했어?\")"
   ]
  },
  {
   "cell_type": "code",
   "execution_count": 12,
   "id": "14b0b129",
   "metadata": {},
   "outputs": [
    {
     "data": {
      "text/plain": [
       "' print(\"밥먹었어?\")\\nprint(\"퇴근했어?\") '"
      ]
     },
     "execution_count": 12,
     "metadata": {},
     "output_type": "execute_result"
    }
   ],
   "source": [
    "\"\"\" \n",
    "주석(comments)\n",
    "한줄주석: 코드 문장 맨 앞에 `#` 기호를 붙힌다. 단축키: Ctrl + /\n",
    "두줄주석: 코드 문장 맨 앞에 `#` 기호를 붙힌다. 단축키: Ctrl + /\n",
    " \"\"\"\n",
    "# print(\"잘 잤어?\")\n",
    "\"\"\" print(\"밥먹었어?\")\n",
    "print(\"퇴근했어?\") \"\"\""
   ]
  },
  {
   "cell_type": "code",
   "execution_count": 13,
   "id": "5fee03b3",
   "metadata": {},
   "outputs": [
    {
     "name": "stdout",
     "output_type": "stream",
     "text": [
      "치즈케이크 마카롱 쿠키\n"
     ]
    }
   ],
   "source": [
    "# 여러 항목 출력\n",
    "print(\"치즈케이크\", \"마카롱\", \"쿠키\")"
   ]
  },
  {
   "cell_type": "code",
   "execution_count": null,
   "id": "07fab9ae",
   "metadata": {},
   "outputs": [
    {
     "data": {
      "text/plain": [
       "'startcoding'"
      ]
     },
     "execution_count": 15,
     "metadata": {},
     "output_type": "execute_result"
    }
   ],
   "source": [
    "# 자료형\n",
    "\n",
    "## 문자열\n",
    "\"startcoding\"\n",
    "'startcoding'\n",
    "\n",
    "# 정수(Integer, int)\n",
    "5\n",
    "-20\n",
    "\n",
    "# 실수(Float)\n",
    "3.14\n",
    "-2.5\n",
    "\n",
    "# 논리데이터(Bool, Boolean)\n",
    "True\n",
    "False"
   ]
  },
  {
   "cell_type": "code",
   "execution_count": null,
   "id": "cefed837",
   "metadata": {},
   "outputs": [],
   "source": []
  },
  {
   "cell_type": "code",
   "execution_count": null,
   "id": "ef525935",
   "metadata": {},
   "outputs": [],
   "source": []
  }
 ],
 "metadata": {
  "kernelspec": {
   "display_name": "Python 3",
   "language": "python",
   "name": "python3"
  },
  "language_info": {
   "codemirror_mode": {
    "name": "ipython",
    "version": 3
   },
   "file_extension": ".py",
   "mimetype": "text/x-python",
   "name": "python",
   "nbconvert_exporter": "python",
   "pygments_lexer": "ipython3",
   "version": "3.13.7"
  }
 },
 "nbformat": 4,
 "nbformat_minor": 5
}
