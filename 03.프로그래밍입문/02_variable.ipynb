{
 "cells": [
  {
   "cell_type": "code",
   "execution_count": 1,
   "id": "55671d79",
   "metadata": {},
   "outputs": [
    {
     "name": "stdout",
     "output_type": "stream",
     "text": [
      "티모\n"
     ]
    }
   ],
   "source": [
    "\"\"\" \n",
    "변수 정의\n",
    "롤 티모에 대해 이름, 레벨, 데미지, 스킬을 정의한다.\n",
    " \"\"\"\n",
    "champ_name = \"티모\"\n",
    "champ_level = 10\n",
    "champ_damage = 90\n",
    "champ_skill = \"버섯깔기\"\n",
    "print(champ_name)"
   ]
  },
  {
   "cell_type": "code",
   "execution_count": null,
   "id": "26ff5846",
   "metadata": {},
   "outputs": [
    {
     "name": "stdout",
     "output_type": "stream",
     "text": [
      "10 90\n"
     ]
    }
   ],
   "source": [
    "# 다른 쉘에서 변수 참조 가능\n",
    "print(champ_level, champ_damage)"
   ]
  },
  {
   "cell_type": "code",
   "execution_count": 7,
   "id": "a22ea6e5",
   "metadata": {},
   "outputs": [
    {
     "name": "stdout",
     "output_type": "stream",
     "text": [
      "챔피언 : 티모\n",
      "스킬 : 버섯깔기\n"
     ]
    }
   ],
   "source": [
    "print(\"챔피언 :\", champ_name)\n",
    "print(\"스킬 :\", champ_skill)\n"
   ]
  },
  {
   "cell_type": "code",
   "execution_count": 9,
   "id": "c6b155db",
   "metadata": {},
   "outputs": [],
   "source": [
    "champ_level = 11\n",
    "champ_damage = 95"
   ]
  },
  {
   "cell_type": "code",
   "execution_count": 10,
   "id": "05cdd346",
   "metadata": {},
   "outputs": [
    {
     "name": "stdout",
     "output_type": "stream",
     "text": [
      "11 95\n"
     ]
    }
   ],
   "source": [
    "print(champ_level, champ_damage)"
   ]
  },
  {
   "cell_type": "code",
   "execution_count": null,
   "id": "422ad75d",
   "metadata": {},
   "outputs": [
    {
     "ename": "NameError",
     "evalue": "name 'champ_msg' is not defined",
     "output_type": "error",
     "traceback": [
      "\u001b[31m---------------------------------------------------------------------------\u001b[39m",
      "\u001b[31mNameError\u001b[39m                                 Traceback (most recent call last)",
      "\u001b[36mCell\u001b[39m\u001b[36m \u001b[39m\u001b[32mIn[11]\u001b[39m\u001b[32m, line 2\u001b[39m\n\u001b[32m      1\u001b[39m \u001b[38;5;66;03m# NameError: name;\u001b[39;00m\n\u001b[32m----> \u001b[39m\u001b[32m2\u001b[39m \u001b[38;5;28mprint\u001b[39m(\u001b[43mchamp_msg\u001b[49m)\n",
      "\u001b[31mNameError\u001b[39m: name 'champ_msg' is not defined"
     ]
    }
   ],
   "source": [
    "# NameError: name 'champ_msg' is not defined - 정의되지 않았다\n",
    "print(champ_msg)"
   ]
  },
  {
   "cell_type": "code",
   "execution_count": null,
   "id": "df6b248b",
   "metadata": {},
   "outputs": [],
   "source": []
  }
 ],
 "metadata": {
  "kernelspec": {
   "display_name": "Python 3",
   "language": "python",
   "name": "python3"
  },
  "language_info": {
   "codemirror_mode": {
    "name": "ipython",
    "version": 3
   },
   "file_extension": ".py",
   "mimetype": "text/x-python",
   "name": "python",
   "nbconvert_exporter": "python",
   "pygments_lexer": "ipython3",
   "version": "3.13.7"
  }
 },
 "nbformat": 4,
 "nbformat_minor": 5
}
