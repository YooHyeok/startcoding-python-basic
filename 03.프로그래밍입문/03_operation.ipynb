{
 "cells": [
  {
   "cell_type": "code",
   "execution_count": null,
   "id": "acbf2788",
   "metadata": {},
   "outputs": [
    {
     "ename": "TypeError",
     "evalue": "unsupported operand type(s) for -: 'str' and 'str'",
     "output_type": "error",
     "traceback": [
      "\u001b[31m---------------------------------------------------------------------------\u001b[39m",
      "\u001b[31mTypeError\u001b[39m                                 Traceback (most recent call last)",
      "\u001b[36mCell\u001b[39m\u001b[36m \u001b[39m\u001b[32mIn[3]\u001b[39m\u001b[32m, line 4\u001b[39m\n\u001b[32m      2\u001b[39m string1 = \u001b[33m\"\u001b[39m\u001b[33m파이리\u001b[39m\u001b[33m\"\u001b[39m + \u001b[33m\"\u001b[39m\u001b[33m꼬부기\u001b[39m\u001b[33m\"\u001b[39m\n\u001b[32m      3\u001b[39m string2 = \u001b[33m\"\u001b[39m\u001b[33m피카츄\u001b[39m\u001b[33m\"\u001b[39m + string1\n\u001b[32m----> \u001b[39m\u001b[32m4\u001b[39m string3 = \u001b[43mstring1\u001b[49m\u001b[43m \u001b[49m\u001b[43m-\u001b[49m\u001b[43m \u001b[49m\u001b[33;43m\"\u001b[39;49m\u001b[33;43m꼬부기\u001b[39;49m\u001b[33;43m\"\u001b[39;49m\n\u001b[32m      5\u001b[39m \u001b[38;5;28mprint\u001b[39m(string1)\n\u001b[32m      6\u001b[39m \u001b[38;5;28mprint\u001b[39m(string2)\n",
      "\u001b[31mTypeError\u001b[39m: unsupported operand type(s) for -: 'str' and 'str'"
     ]
    }
   ],
   "source": [
    "# 문자열 연산\n",
    "string1 = \"파이리\" + \"꼬부기\"\n",
    "string2 = \"피카츄\" + string1\n",
    "string3 = string1 - \"꼬부기\" # 뺄셈은 안됨\n",
    "print(string1)\n",
    "print(string2)\n",
    "print(string3)"
   ]
  },
  {
   "cell_type": "code",
   "execution_count": null,
   "id": "c8e5bb84",
   "metadata": {},
   "outputs": [
    {
     "name": "stdout",
     "output_type": "stream",
     "text": [
      "15 5 50 2.0\n"
     ]
    }
   ],
   "source": [
    "# 숫자 연산\n",
    "a = 10 + 5\n",
    "b = 10 - 5\n",
    "c = 10 * 5\n",
    "d = 10 / 5 # 나누기는 정수가 아닌 실수로 변환됨\n",
    "print(a, b, c, d)"
   ]
  },
  {
   "cell_type": "code",
   "execution_count": null,
   "id": "9f3a1158",
   "metadata": {},
   "outputs": [],
   "source": []
  }
 ],
 "metadata": {
  "kernelspec": {
   "display_name": "Python 3",
   "language": "python",
   "name": "python3"
  },
  "language_info": {
   "codemirror_mode": {
    "name": "ipython",
    "version": 3
   },
   "file_extension": ".py",
   "mimetype": "text/x-python",
   "name": "python",
   "nbconvert_exporter": "python",
   "pygments_lexer": "ipython3",
   "version": "3.13.7"
  }
 },
 "nbformat": 4,
 "nbformat_minor": 5
}
